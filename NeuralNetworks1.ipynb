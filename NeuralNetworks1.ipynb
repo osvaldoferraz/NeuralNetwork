{
 "cells": [
  {
   "cell_type": "code",
   "execution_count": 1,
   "metadata": {},
   "outputs": [],
   "source": [
    "# Import our dependencies\n",
    "import pandas as pd\n",
    "import matplotlib as plt\n",
    "from sklearn.datasets import make_blobs\n",
    "import sklearn as skl\n",
    "import tensorflow as tf\n"
   ]
  },
  {
   "cell_type": "code",
   "execution_count": 2,
   "metadata": {},
   "outputs": [
    {
     "data": {
      "text/plain": [
       "<AxesSubplot:xlabel='Feature 1', ylabel='Feature 2'>"
      ]
     },
     "execution_count": 2,
     "metadata": {},
     "output_type": "execute_result"
    },
    {
     "data": {
      "image/png": "[encoded data removed]",
      "text/plain": [
       "<Figure size 432x288 with 2 Axes>"
      ]
     },
     "metadata": {
      "needs_background": "light"
     },
     "output_type": "display_data"
    }
   ],
   "source": [
    "# Generate dummy dataset\n",
    "X, y = make_blobs(n_samples=1000, centers=2, n_features=2, random_state=78)\n",
    "\n",
    "#Creating a DataFrame with the dummy data\n",
    "df = pd.DataFrame(X, columns=[\"Feature 1\", \"Feature 2\"])\n",
    "df[\"Target\"]=y\n",
    "\n",
    "\n",
    "# Plotting the dummy data\n",
    "df.plot.scatter(x=\"Feature 1\", y=\"Feature 2\", c=\"Target\", colormap=\"winter\")"
   ]
  },
  {
   "cell_type": "code",
   "execution_count": 3,
   "metadata": {},
   "outputs": [
    {
     "data": {
      "text/html": [
       "<div>\n",
       "<style scoped>\n",
       "    .dataframe tbody tr th:only-of-type {\n",
       "        vertical-align: middle;\n",
       "    }\n",
       "\n",
       "    .dataframe tbody tr th {\n",
       "        vertical-align: top;\n",
       "    }\n",
       "\n",
       "    .dataframe thead th {\n",
       "        text-align: right;\n",
       "    }\n",
       "</style>\n",
       "<table border=\"1\" class=\"dataframe\">\n",
       "  <thead>\n",
       "    <tr style=\"text-align: right;\">\n",
       "      <th></th>\n",
       "      <th>Feature 1</th>\n",
       "      <th>Feature 2</th>\n",
       "      <th>Target</th>\n",
       "    </tr>\n",
       "  </thead>\n",
       "  <tbody>\n",
       "    <tr>\n",
       "      <th>0</th>\n",
       "      <td>5.478098</td>\n",
       "      <td>7.203714</td>\n",
       "      <td>1</td>\n",
       "    </tr>\n",
       "    <tr>\n",
       "      <th>1</th>\n",
       "      <td>-8.428483</td>\n",
       "      <td>4.121889</td>\n",
       "      <td>0</td>\n",
       "    </tr>\n",
       "    <tr>\n",
       "      <th>2</th>\n",
       "      <td>-7.905447</td>\n",
       "      <td>3.323639</td>\n",
       "      <td>0</td>\n",
       "    </tr>\n",
       "    <tr>\n",
       "      <th>3</th>\n",
       "      <td>6.411041</td>\n",
       "      <td>5.523013</td>\n",
       "      <td>1</td>\n",
       "    </tr>\n",
       "    <tr>\n",
       "      <th>4</th>\n",
       "      <td>7.288599</td>\n",
       "      <td>6.171226</td>\n",
       "      <td>1</td>\n",
       "    </tr>\n",
       "  </tbody>\n",
       "</table>\n",
       "</div>"
      ],
      "text/plain": [
       "   Feature 1  Feature 2  Target\n",
       "0   5.478098   7.203714       1\n",
       "1  -8.428483   4.121889       0\n",
       "2  -7.905447   3.323639       0\n",
       "3   6.411041   5.523013       1\n",
       "4   7.288599   6.171226       1"
      ]
     },
     "execution_count": 3,
     "metadata": {},
     "output_type": "execute_result"
    }
   ],
   "source": [
    "df.head()"
   ]
  },
  {
   "cell_type": "code",
   "execution_count": 4,
   "metadata": {},
   "outputs": [],
   "source": [
    "#Use sklearn to split dataset\n",
    "from sklearn.model_selection import train_test_split\n",
    "X_train, X_test, y_train, y_test = train_test_split(X, y, random_state=78)"
   ]
  },
  {
   "cell_type": "code",
   "execution_count": 5,
   "metadata": {},
   "outputs": [],
   "source": [
    "# Create scaler instance\n",
    "X_scaler = skl.preprocessing.StandardScaler()\n",
    "\n",
    "#Fit the scaler\n",
    "X_scaler.fit(X_train)\n",
    "\n",
    "# Scale the data\n",
    "X_train_scaled = X_scaler.transform(X_train)\n",
    "X_test_scaled = X_scaler.transform(X_test)\n"
   ]
  },
  {
   "cell_type": "code",
   "execution_count": 6,
   "metadata": {},
   "outputs": [],
   "source": [
    "# Create the Keras Sequential model\n",
    "nn_model = tf.keras.models.Sequential()"
   ]
  },
  {
   "cell_type": "code",
   "execution_count": 7,
   "metadata": {},
   "outputs": [],
   "source": [
    "# Add our first Dense layer, including the input layer\n",
    "nn_model.add(tf.keras.layers.Dense(units=1, activation='relu', input_dim=2))"
   ]
  },
  {
   "cell_type": "code",
   "execution_count": 8,
   "metadata": {},
   "outputs": [],
   "source": [
    "# Add the output layer that uses a probability activation function\n",
    "nn_model.add(tf.keras.layers.Dense(units=1, activation=\"sigmoid\"))"
   ]
  },
  {
   "cell_type": "code",
   "execution_count": 9,
   "metadata": {},
   "outputs": [
    {
     "name": "stdout",
     "output_type": "stream",
     "text": [
      "Model: \"sequential\"\n",
      "_________________________________________________________________\n",
      "Layer (type)                 Output Shape              Param #   \n",
      "=================================================================\n",
      "dense (Dense)                (None, 1)                 3         \n",
      "_________________________________________________________________\n",
      "dense_1 (Dense)              (None, 1)                 2         \n",
      "=================================================================\n",
      "Total params: 5\n",
      "Trainable params: 5\n",
      "Non-trainable params: 0\n",
      "_________________________________________________________________\n"
     ]
    }
   ],
   "source": [
    "nn_model.summary()"
   ]
  },
  {
   "cell_type": "code",
   "execution_count": 10,
   "metadata": {},
   "outputs": [],
   "source": [
    "# Complie the Sequential model together and customizae metrics\n",
    "nn_model.compile(loss='binary_crossentropy', optimizer='adam', metrics=['accuracy'])"
   ]
  },
  {
   "cell_type": "code",
   "execution_count": 11,
   "metadata": {},
   "outputs": [
    {
     "name": "stdout",
     "output_type": "stream",
     "text": [
      "Epoch 1/100\n",
      "24/24 [==============================] - 0s 680us/step - loss: 0.7577 - accuracy: 0.5450\n",
      "Epoch 2/100\n",
      "24/24 [==============================] - 0s 647us/step - loss: 0.7543 - accuracy: 0.3202\n",
      "Epoch 3/100\n",
      "24/24 [==============================] - 0s 639us/step - loss: 0.7453 - accuracy: 0.2266\n",
      "Epoch 4/100\n",
      "24/24 [==============================] - 0s 679us/step - loss: 0.7367 - accuracy: 0.2370\n",
      "Epoch 5/100\n",
      "24/24 [==============================] - 0s 653us/step - loss: 0.7317 - accuracy: 0.2400\n",
      "Epoch 6/100\n",
      "24/24 [==============================] - 0s 693us/step - loss: 0.7277 - accuracy: 0.2519\n",
      "Epoch 7/100\n",
      "24/24 [==============================] - 0s 668us/step - loss: 0.7184 - accuracy: 0.3031\n",
      "Epoch 8/100\n",
      "24/24 [==============================] - 0s 696us/step - loss: 0.7154 - accuracy: 0.3126\n",
      "Epoch 9/100\n",
      "24/24 [==============================] - 0s 718us/step - loss: 0.7124 - accuracy: 0.3211\n",
      "Epoch 10/100\n",
      "24/24 [==============================] - 0s 702us/step - loss: 0.7060 - accuracy: 0.3395\n",
      "Epoch 11/100\n",
      "24/24 [==============================] - 0s 668us/step - loss: 0.7043 - accuracy: 0.3748\n",
      "Epoch 12/100\n",
      "24/24 [==============================] - 0s 657us/step - loss: 0.7032 - accuracy: 0.3710\n",
      "Epoch 13/100\n",
      "24/24 [==============================] - 0s 639us/step - loss: 0.7009 - accuracy: 0.4100\n",
      "Epoch 14/100\n",
      "24/24 [==============================] - 0s 690us/step - loss: 0.6967 - accuracy: 0.4587\n",
      "Epoch 15/100\n",
      "24/24 [==============================] - 0s 685us/step - loss: 0.6972 - accuracy: 0.4672\n",
      "Epoch 16/100\n",
      "24/24 [==============================] - 0s 687us/step - loss: 0.6952 - accuracy: 0.4918\n",
      "Epoch 17/100\n",
      "24/24 [==============================] - 0s 670us/step - loss: 0.6946 - accuracy: 0.5102\n",
      "Epoch 18/100\n",
      "24/24 [==============================] - 0s 682us/step - loss: 0.6940 - accuracy: 0.5120\n",
      "Epoch 19/100\n",
      "24/24 [==============================] - 0s 668us/step - loss: 0.6915 - accuracy: 0.5479\n",
      "Epoch 20/100\n",
      "24/24 [==============================] - 0s 664us/step - loss: 0.6905 - accuracy: 0.5510\n",
      "Epoch 21/100\n",
      "24/24 [==============================] - 0s 619us/step - loss: 0.6902 - accuracy: 0.5555\n",
      "Epoch 22/100\n",
      "24/24 [==============================] - 0s 677us/step - loss: 0.6886 - accuracy: 0.6111\n",
      "Epoch 23/100\n",
      "24/24 [==============================] - 0s 627us/step - loss: 0.6874 - accuracy: 0.6237\n",
      "Epoch 24/100\n",
      "24/24 [==============================] - 0s 651us/step - loss: 0.6852 - accuracy: 0.6727\n",
      "Epoch 25/100\n",
      "24/24 [==============================] - 0s 678us/step - loss: 0.6835 - accuracy: 0.6778\n",
      "Epoch 26/100\n",
      "24/24 [==============================] - 0s 658us/step - loss: 0.6784 - accuracy: 0.7429\n",
      "Epoch 27/100\n",
      "24/24 [==============================] - 0s 681us/step - loss: 0.6769 - accuracy: 0.7757\n",
      "Epoch 28/100\n",
      "24/24 [==============================] - 0s 677us/step - loss: 0.6670 - accuracy: 0.8732\n",
      "Epoch 29/100\n",
      "24/24 [==============================] - 0s 711us/step - loss: 0.6596 - accuracy: 0.9071\n",
      "Epoch 30/100\n",
      "24/24 [==============================] - 0s 681us/step - loss: 0.6506 - accuracy: 0.9641\n",
      "Epoch 31/100\n",
      "24/24 [==============================] - 0s 698us/step - loss: 0.6343 - accuracy: 0.9715\n",
      "Epoch 32/100\n",
      "24/24 [==============================] - 0s 645us/step - loss: 0.6185 - accuracy: 0.9917\n",
      "Epoch 33/100\n",
      "24/24 [==============================] - 0s 610us/step - loss: 0.5955 - accuracy: 0.9988\n",
      "Epoch 34/100\n",
      "24/24 [==============================] - 0s 649us/step - loss: 0.5785 - accuracy: 0.9974\n",
      "Epoch 35/100\n",
      "24/24 [==============================] - 0s 667us/step - loss: 0.5537 - accuracy: 1.0000\n",
      "Epoch 36/100\n",
      "24/24 [==============================] - 0s 614us/step - loss: 0.5401 - accuracy: 1.0000\n",
      "Epoch 37/100\n",
      "24/24 [==============================] - 0s 651us/step - loss: 0.5174 - accuracy: 1.0000\n",
      "Epoch 38/100\n",
      "24/24 [==============================] - 0s 653us/step - loss: 0.4908 - accuracy: 1.0000\n",
      "Epoch 39/100\n",
      "24/24 [==============================] - 0s 678us/step - loss: 0.4700 - accuracy: 1.0000\n",
      "Epoch 40/100\n",
      "24/24 [==============================] - 0s 675us/step - loss: 0.4449 - accuracy: 1.0000\n",
      "Epoch 41/100\n",
      "24/24 [==============================] - 0s 644us/step - loss: 0.4359 - accuracy: 1.0000\n",
      "Epoch 42/100\n",
      "24/24 [==============================] - 0s 647us/step - loss: 0.4164 - accuracy: 1.0000\n",
      "Epoch 43/100\n",
      "24/24 [==============================] - 0s 699us/step - loss: 0.4107 - accuracy: 1.0000\n",
      "Epoch 44/100\n",
      "24/24 [==============================] - 0s 643us/step - loss: 0.3914 - accuracy: 1.0000\n",
      "Epoch 45/100\n",
      "24/24 [==============================] - 0s 648us/step - loss: 0.3765 - accuracy: 1.0000\n",
      "Epoch 46/100\n",
      "24/24 [==============================] - 0s 667us/step - loss: 0.3602 - accuracy: 1.0000\n",
      "Epoch 47/100\n",
      "24/24 [==============================] - 0s 670us/step - loss: 0.3405 - accuracy: 1.0000\n",
      "Epoch 48/100\n",
      "24/24 [==============================] - 0s 654us/step - loss: 0.3332 - accuracy: 1.0000\n",
      "Epoch 49/100\n",
      "24/24 [==============================] - 0s 633us/step - loss: 0.3144 - accuracy: 1.0000\n",
      "Epoch 50/100\n",
      "24/24 [==============================] - 0s 666us/step - loss: 0.3090 - accuracy: 1.0000\n",
      "Epoch 51/100\n",
      "24/24 [==============================] - 0s 656us/step - loss: 0.2926 - accuracy: 1.0000\n",
      "Epoch 52/100\n",
      "24/24 [==============================] - 0s 652us/step - loss: 0.2993 - accuracy: 1.0000\n",
      "Epoch 53/100\n",
      "24/24 [==============================] - 0s 604us/step - loss: 0.2779 - accuracy: 1.0000\n",
      "Epoch 54/100\n",
      "24/24 [==============================] - 0s 592us/step - loss: 0.2626 - accuracy: 1.0000\n",
      "Epoch 55/100\n",
      "24/24 [==============================] - 0s 634us/step - loss: 0.2602 - accuracy: 1.0000\n",
      "Epoch 56/100\n",
      "24/24 [==============================] - 0s 597us/step - loss: 0.2559 - accuracy: 1.0000\n",
      "Epoch 57/100\n",
      "24/24 [==============================] - 0s 652us/step - loss: 0.2521 - accuracy: 1.0000\n",
      "Epoch 58/100\n",
      "24/24 [==============================] - 0s 610us/step - loss: 0.2488 - accuracy: 1.0000\n",
      "Epoch 59/100\n",
      "24/24 [==============================] - 0s 626us/step - loss: 0.2358 - accuracy: 1.0000\n",
      "Epoch 60/100\n",
      "24/24 [==============================] - 0s 597us/step - loss: 0.2377 - accuracy: 1.0000\n",
      "Epoch 61/100\n",
      "24/24 [==============================] - 0s 587us/step - loss: 0.2245 - accuracy: 1.0000\n",
      "Epoch 62/100\n",
      "24/24 [==============================] - 0s 613us/step - loss: 0.2190 - accuracy: 1.0000\n",
      "Epoch 63/100\n",
      "24/24 [==============================] - 0s 604us/step - loss: 0.2149 - accuracy: 1.0000\n",
      "Epoch 64/100\n",
      "24/24 [==============================] - 0s 627us/step - loss: 0.1971 - accuracy: 1.0000\n",
      "Epoch 65/100\n",
      "24/24 [==============================] - 0s 634us/step - loss: 0.2161 - accuracy: 1.0000\n",
      "Epoch 66/100\n",
      "24/24 [==============================] - 0s 619us/step - loss: 0.1921 - accuracy: 1.0000\n",
      "Epoch 67/100\n",
      "24/24 [==============================] - 0s 627us/step - loss: 0.1963 - accuracy: 1.0000\n",
      "Epoch 68/100\n",
      "24/24 [==============================] - 0s 614us/step - loss: 0.1922 - accuracy: 1.0000\n",
      "Epoch 69/100\n",
      "24/24 [==============================] - 0s 701us/step - loss: 0.1748 - accuracy: 1.0000\n",
      "Epoch 70/100\n",
      "24/24 [==============================] - 0s 638us/step - loss: 0.1809 - accuracy: 1.0000\n",
      "Epoch 71/100\n",
      "24/24 [==============================] - 0s 615us/step - loss: 0.1864 - accuracy: 1.0000\n",
      "Epoch 72/100\n",
      "24/24 [==============================] - 0s 642us/step - loss: 0.1697 - accuracy: 1.0000\n",
      "Epoch 73/100\n",
      "24/24 [==============================] - 0s 603us/step - loss: 0.1651 - accuracy: 1.0000\n",
      "Epoch 74/100\n",
      "24/24 [==============================] - 0s 580us/step - loss: 0.1561 - accuracy: 1.0000\n",
      "Epoch 75/100\n",
      "24/24 [==============================] - 0s 601us/step - loss: 0.1602 - accuracy: 1.0000\n",
      "Epoch 76/100\n",
      "24/24 [==============================] - 0s 624us/step - loss: 0.1543 - accuracy: 1.0000\n",
      "Epoch 77/100\n",
      "24/24 [==============================] - 0s 641us/step - loss: 0.1587 - accuracy: 1.0000\n",
      "Epoch 78/100\n",
      "24/24 [==============================] - 0s 630us/step - loss: 0.1468 - accuracy: 1.0000\n",
      "Epoch 79/100\n",
      "24/24 [==============================] - 0s 627us/step - loss: 0.1484 - accuracy: 1.0000\n",
      "Epoch 80/100\n",
      "24/24 [==============================] - 0s 597us/step - loss: 0.1434 - accuracy: 1.0000\n",
      "Epoch 81/100\n"
     ]
    },
    {
     "name": "stdout",
     "output_type": "stream",
     "text": [
      "24/24 [==============================] - 0s 611us/step - loss: 0.1423 - accuracy: 1.0000\n",
      "Epoch 82/100\n",
      "24/24 [==============================] - 0s 604us/step - loss: 0.1385 - accuracy: 1.0000\n",
      "Epoch 83/100\n",
      "24/24 [==============================] - 0s 573us/step - loss: 0.1406 - accuracy: 1.0000\n",
      "Epoch 84/100\n",
      "24/24 [==============================] - 0s 642us/step - loss: 0.1326 - accuracy: 1.0000\n",
      "Epoch 85/100\n",
      "24/24 [==============================] - 0s 642us/step - loss: 0.1347 - accuracy: 1.0000\n",
      "Epoch 86/100\n",
      "24/24 [==============================] - 0s 643us/step - loss: 0.1308 - accuracy: 1.0000\n",
      "Epoch 87/100\n",
      "24/24 [==============================] - 0s 627us/step - loss: 0.1296 - accuracy: 1.0000\n",
      "Epoch 88/100\n",
      "24/24 [==============================] - 0s 630us/step - loss: 0.1185 - accuracy: 1.0000\n",
      "Epoch 89/100\n",
      "24/24 [==============================] - 0s 632us/step - loss: 0.1239 - accuracy: 1.0000\n",
      "Epoch 90/100\n",
      "24/24 [==============================] - 0s 636us/step - loss: 0.1159 - accuracy: 1.0000\n",
      "Epoch 91/100\n",
      "24/24 [==============================] - 0s 615us/step - loss: 0.1208 - accuracy: 1.0000\n",
      "Epoch 92/100\n",
      "24/24 [==============================] - 0s 613us/step - loss: 0.1098 - accuracy: 1.0000\n",
      "Epoch 93/100\n",
      "24/24 [==============================] - 0s 621us/step - loss: 0.1078 - accuracy: 1.0000\n",
      "Epoch 94/100\n",
      "24/24 [==============================] - 0s 606us/step - loss: 0.1096 - accuracy: 1.0000\n",
      "Epoch 95/100\n",
      "24/24 [==============================] - 0s 624us/step - loss: 0.1162 - accuracy: 1.0000\n",
      "Epoch 96/100\n",
      "24/24 [==============================] - 0s 695us/step - loss: 0.1070 - accuracy: 1.0000\n",
      "Epoch 97/100\n",
      "24/24 [==============================] - 0s 621us/step - loss: 0.1076 - accuracy: 1.0000\n",
      "Epoch 98/100\n",
      "24/24 [==============================] - 0s 653us/step - loss: 0.1034 - accuracy: 1.0000\n",
      "Epoch 99/100\n",
      "24/24 [==============================] - 0s 623us/step - loss: 0.1018 - accuracy: 1.0000\n",
      "Epoch 100/100\n",
      "24/24 [==============================] - 0s 609us/step - loss: 0.1018 - accuracy: 1.0000\n"
     ]
    }
   ],
   "source": [
    "# Fit the model to the training data\n",
    "fit_model = nn_model.fit(X_train_scaled, y_train, epochs=100)"
   ]
  },
  {
   "cell_type": "code",
   "execution_count": 12,
   "metadata": {},
   "outputs": [
    {
     "name": "stdout",
     "output_type": "stream",
     "text": [
      "         loss  accuracy\n",
      "1    0.763441  0.506667\n",
      "2    0.752448  0.244000\n",
      "3    0.742924  0.229333\n",
      "4    0.734895  0.249333\n",
      "5    0.728155  0.272000\n",
      "..        ...       ...\n",
      "96   0.106652  1.000000\n",
      "97   0.104840  1.000000\n",
      "98   0.103043  1.000000\n",
      "99   0.101310  1.000000\n",
      "100  0.099618  1.000000\n",
      "\n",
      "[100 rows x 2 columns]\n"
     ]
    },
    {
     "data": {
      "text/plain": [
       "<AxesSubplot:>"
      ]
     },
     "execution_count": 12,
     "metadata": {},
     "output_type": "execute_result"
    },
    {
     "data": {
      "image/png": "[encoded data removed]",
      "text/plain": [
       "<Figure size 432x288 with 1 Axes>"
      ]
     },
     "metadata": {
      "needs_background": "light"
     },
     "output_type": "display_data"
    }
   ],
   "source": [
    "# Create a DF containing training history\n",
    "history_df = pd.DataFrame(fit_model.history, index=range(1, len(fit_model.history['loss'])+1))\n",
    "print(history_df)\n",
    "# Plot the loss\n",
    "history_df.plot(y='loss')"
   ]
  },
  {
   "cell_type": "code",
   "execution_count": 13,
   "metadata": {},
   "outputs": [
    {
     "data": {
      "text/plain": [
       "<AxesSubplot:>"
      ]
     },
     "execution_count": 13,
     "metadata": {},
     "output_type": "execute_result"
    },
    {
     "data": {
      "image/png": "[encoded data removed]",
      "text/plain": [
       "<Figure size 432x288 with 1 Axes>"
      ]
     },
     "metadata": {
      "needs_background": "light"
     },
     "output_type": "display_data"
    }
   ],
   "source": [
    "# Plot the accuracy\n",
    "history_df.plot(y=\"accuracy\")"
   ]
  },
  {
   "cell_type": "code",
   "execution_count": 14,
   "metadata": {},
   "outputs": [
    {
     "name": "stdout",
     "output_type": "stream",
     "text": [
      "8/8 - 0s - loss: 0.1019 - accuracy: 1.0000\n",
      "Loss: 0.10190440714359283, Accuracy: 1.0\n"
     ]
    }
   ],
   "source": [
    "# Evaluate the model using the test data\n",
    "model_loss, model_accuracy = nn_model.evaluate(X_test_scaled, y_test, verbose=2)\n",
    "print(f\"Loss: {model_loss}, Accuracy: {model_accuracy}\")"
   ]
  },
  {
   "cell_type": "code",
   "execution_count": 15,
   "metadata": {},
   "outputs": [
    {
     "data": {
      "text/plain": [
       "array([[0],\n",
       "       [1],\n",
       "       [0],\n",
       "       [1],\n",
       "       [0],\n",
       "       [0],\n",
       "       [1],\n",
       "       [1],\n",
       "       [1],\n",
       "       [0]], dtype=int32)"
      ]
     },
     "execution_count": 15,
     "metadata": {},
     "output_type": "execute_result"
    }
   ],
   "source": [
    "# Predict the classification of a new set of blob data\n",
    "new_X, new_Y = make_blobs(n_samples = 10, centers=2, n_features=2, random_state=78)\n",
    "new_X_scaled = X_scaler.transform(new_X)\n",
    "(nn_model.predict(new_X_scaled) > 0.5).astype('int32')"
   ]
  },
  {
   "cell_type": "code",
   "execution_count": 16,
   "metadata": {},
   "outputs": [
    {
     "name": "stdout",
     "output_type": "stream",
     "text": [
      "     Feature 1  Feature 2  Target\n",
      "0     0.676217   0.815220       0\n",
      "1     1.487143  -0.210519       1\n",
      "2    -1.027709   0.354966       0\n",
      "3     0.236012   1.025531       0\n",
      "4     1.856695  -0.042783       1\n",
      "..         ...        ...     ...\n",
      "995   0.816425   0.584748       0\n",
      "996   0.864083   0.195920       0\n",
      "997   1.865044   0.086256       1\n",
      "998  -0.836507   0.167338       0\n",
      "999   0.769625  -0.525292       1\n",
      "\n",
      "[1000 rows x 3 columns]\n"
     ]
    },
    {
     "data": {
      "text/plain": [
       "<AxesSubplot:xlabel='Feature 1', ylabel='Feature 2'>"
      ]
     },
     "execution_count": 16,
     "metadata": {},
     "output_type": "execute_result"
    },
    {
     "data": {
      "image/png": "[encoded data removed]",
      "text/plain": [
       "<Figure size 432x288 with 2 Axes>"
      ]
     },
     "metadata": {
      "needs_background": "light"
     },
     "output_type": "display_data"
    }
   ],
   "source": [
    "from sklearn.datasets import make_moons\n",
    "\n",
    "#Creating dummy nonlinear data\n",
    "X_moons, y_moons, = make_moons(n_samples=1000, noise=0.08, random_state=78)\n",
    "\n",
    "# Transforming y_moons to a vertical vector\n",
    "y_moons = y_moons.reshape(-1,1)\n",
    "\n",
    "# Creating a DataFrame to plot the nonlinear dummy data\n",
    "df_moons = pd.DataFrame(X_moons, columns=['Feature 1', 'Feature 2'])\n",
    "df_moons[\"Target\"]=y_moons\n",
    "print(df_moons)\n",
    "\n",
    "#plot the nonlinear dummy data\n",
    "df_moons.plot.scatter(x=\"Feature 1\", y='Feature 2', c='Target', colormap='winter')"
   ]
  },
  {
   "cell_type": "code",
   "execution_count": 17,
   "metadata": {},
   "outputs": [],
   "source": [
    "# Create training and testing sets\n",
    "X_moon_train, X_moon_test, y_moon_train, y_moon_test = train_test_split(\n",
    "    X_moons, y_moons, random_state=78\n",
    ")\n",
    "\n",
    "# Create the scaler instance\n",
    "X_moon_scaler = skl.preprocessing.StandardScaler()\n",
    "\n",
    "# Fit the scaler\n",
    "X_moon_scaler.fit(X_moon_train)\n",
    "\n",
    "#Scale the data\n",
    "X_moon_train_scaled = X_moon_scaler.transform(X_moon_train)\n",
    "X_moon_test_scaled = X_moon_scaler.transform(X_moon_test)"
   ]
  },
  {
   "cell_type": "code",
   "execution_count": 18,
   "metadata": {},
   "outputs": [
    {
     "name": "stdout",
     "output_type": "stream",
     "text": [
      "Epoch 1/100\n",
      "24/24 [==============================] - 0s 967us/step - loss: 0.8067 - accuracy: 0.5733\n",
      "Epoch 2/100\n",
      "24/24 [==============================] - 0s 889us/step - loss: 0.7277 - accuracy: 0.5920\n",
      "Epoch 3/100\n",
      "24/24 [==============================] - 0s 859us/step - loss: 0.6701 - accuracy: 0.6067\n",
      "Epoch 4/100\n",
      "24/24 [==============================] - 0s 899us/step - loss: 0.6291 - accuracy: 0.6227\n",
      "Epoch 5/100\n",
      "24/24 [==============================] - 0s 922us/step - loss: 0.5974 - accuracy: 0.6387\n",
      "Epoch 6/100\n",
      "24/24 [==============================] - 0s 873us/step - loss: 0.5712 - accuracy: 0.6600\n",
      "Epoch 7/100\n",
      "24/24 [==============================] - 0s 896us/step - loss: 0.5499 - accuracy: 0.6693\n",
      "Epoch 8/100\n",
      "24/24 [==============================] - 0s 855us/step - loss: 0.5307 - accuracy: 0.6760\n",
      "Epoch 9/100\n",
      "24/24 [==============================] - 0s 875us/step - loss: 0.5143 - accuracy: 0.6893\n",
      "Epoch 10/100\n",
      "24/24 [==============================] - 0s 912us/step - loss: 0.5000 - accuracy: 0.7013\n",
      "Epoch 11/100\n",
      "24/24 [==============================] - 0s 924us/step - loss: 0.4867 - accuracy: 0.7080\n",
      "Epoch 12/100\n",
      "24/24 [==============================] - 0s 889us/step - loss: 0.4749 - accuracy: 0.7173\n",
      "Epoch 13/100\n",
      "24/24 [==============================] - 0s 867us/step - loss: 0.4638 - accuracy: 0.7280\n",
      "Epoch 14/100\n",
      "24/24 [==============================] - 0s 900us/step - loss: 0.4535 - accuracy: 0.7333\n",
      "Epoch 15/100\n",
      "24/24 [==============================] - 0s 889us/step - loss: 0.4441 - accuracy: 0.7373\n",
      "Epoch 16/100\n",
      "24/24 [==============================] - 0s 862us/step - loss: 0.4352 - accuracy: 0.7507\n",
      "Epoch 17/100\n",
      "24/24 [==============================] - 0s 900us/step - loss: 0.4268 - accuracy: 0.7600\n",
      "Epoch 18/100\n",
      "24/24 [==============================] - 0s 883us/step - loss: 0.4189 - accuracy: 0.7680\n",
      "Epoch 19/100\n",
      "24/24 [==============================] - 0s 901us/step - loss: 0.4112 - accuracy: 0.7773\n",
      "Epoch 20/100\n",
      "24/24 [==============================] - 0s 884us/step - loss: 0.4040 - accuracy: 0.7800\n",
      "Epoch 21/100\n",
      "24/24 [==============================] - 0s 874us/step - loss: 0.3972 - accuracy: 0.7813\n",
      "Epoch 22/100\n",
      "24/24 [==============================] - 0s 878us/step - loss: 0.3905 - accuracy: 0.7907\n",
      "Epoch 23/100\n",
      "24/24 [==============================] - 0s 899us/step - loss: 0.3843 - accuracy: 0.7907\n",
      "Epoch 24/100\n",
      "24/24 [==============================] - 0s 865us/step - loss: 0.3782 - accuracy: 0.7960\n",
      "Epoch 25/100\n",
      "24/24 [==============================] - 0s 897us/step - loss: 0.3725 - accuracy: 0.8000\n",
      "Epoch 26/100\n",
      "24/24 [==============================] - 0s 876us/step - loss: 0.3669 - accuracy: 0.8107\n",
      "Epoch 27/100\n",
      "24/24 [==============================] - 0s 897us/step - loss: 0.3615 - accuracy: 0.8133\n",
      "Epoch 28/100\n",
      "24/24 [==============================] - 0s 916us/step - loss: 0.3564 - accuracy: 0.8173\n",
      "Epoch 29/100\n",
      "24/24 [==============================] - 0s 894us/step - loss: 0.3517 - accuracy: 0.8200\n",
      "Epoch 30/100\n",
      "24/24 [==============================] - 0s 867us/step - loss: 0.3470 - accuracy: 0.8253\n",
      "Epoch 31/100\n",
      "24/24 [==============================] - 0s 910us/step - loss: 0.3427 - accuracy: 0.8267\n",
      "Epoch 32/100\n",
      "24/24 [==============================] - 0s 935us/step - loss: 0.3386 - accuracy: 0.8267\n",
      "Epoch 33/100\n",
      "24/24 [==============================] - 0s 926us/step - loss: 0.3349 - accuracy: 0.8293\n",
      "Epoch 34/100\n",
      "24/24 [==============================] - 0s 920us/step - loss: 0.3313 - accuracy: 0.8307\n",
      "Epoch 35/100\n",
      "24/24 [==============================] - 0s 911us/step - loss: 0.3279 - accuracy: 0.8307\n",
      "Epoch 36/100\n",
      "24/24 [==============================] - 0s 903us/step - loss: 0.3248 - accuracy: 0.8333\n",
      "Epoch 37/100\n",
      "24/24 [==============================] - 0s 980us/step - loss: 0.3217 - accuracy: 0.8360\n",
      "Epoch 38/100\n",
      "24/24 [==============================] - 0s 1000us/step - loss: 0.3190 - accuracy: 0.8413\n",
      "Epoch 39/100\n",
      "24/24 [==============================] - 0s 965us/step - loss: 0.3162 - accuracy: 0.8440\n",
      "Epoch 40/100\n",
      "24/24 [==============================] - 0s 1ms/step - loss: 0.3137 - accuracy: 0.8467\n",
      "Epoch 41/100\n",
      "24/24 [==============================] - 0s 1ms/step - loss: 0.3113 - accuracy: 0.8493\n",
      "Epoch 42/100\n",
      "24/24 [==============================] - 0s 972us/step - loss: 0.3091 - accuracy: 0.8533\n",
      "Epoch 43/100\n",
      "24/24 [==============================] - 0s 927us/step - loss: 0.3069 - accuracy: 0.8547\n",
      "Epoch 44/100\n",
      "24/24 [==============================] - 0s 1ms/step - loss: 0.3048 - accuracy: 0.8587\n",
      "Epoch 45/100\n",
      "24/24 [==============================] - 0s 976us/step - loss: 0.3029 - accuracy: 0.8600\n",
      "Epoch 46/100\n",
      "24/24 [==============================] - 0s 931us/step - loss: 0.3011 - accuracy: 0.8640\n",
      "Epoch 47/100\n",
      "24/24 [==============================] - 0s 909us/step - loss: 0.2992 - accuracy: 0.8653\n",
      "Epoch 48/100\n",
      "24/24 [==============================] - 0s 901us/step - loss: 0.2976 - accuracy: 0.8653\n",
      "Epoch 49/100\n",
      "24/24 [==============================] - 0s 940us/step - loss: 0.2960 - accuracy: 0.8680\n",
      "Epoch 50/100\n",
      "24/24 [==============================] - 0s 906us/step - loss: 0.2944 - accuracy: 0.8680\n",
      "Epoch 51/100\n",
      "24/24 [==============================] - 0s 901us/step - loss: 0.2930 - accuracy: 0.8680\n",
      "Epoch 52/100\n",
      "24/24 [==============================] - 0s 902us/step - loss: 0.2915 - accuracy: 0.8680\n",
      "Epoch 53/100\n",
      "24/24 [==============================] - 0s 880us/step - loss: 0.2901 - accuracy: 0.8693\n",
      "Epoch 54/100\n",
      "24/24 [==============================] - 0s 891us/step - loss: 0.2888 - accuracy: 0.8693\n",
      "Epoch 55/100\n",
      "24/24 [==============================] - 0s 895us/step - loss: 0.2876 - accuracy: 0.8720\n",
      "Epoch 56/100\n",
      "24/24 [==============================] - 0s 885us/step - loss: 0.2865 - accuracy: 0.8720\n",
      "Epoch 57/100\n",
      "24/24 [==============================] - 0s 858us/step - loss: 0.2852 - accuracy: 0.8747\n",
      "Epoch 58/100\n",
      "24/24 [==============================] - 0s 917us/step - loss: 0.2841 - accuracy: 0.8760\n",
      "Epoch 59/100\n",
      "24/24 [==============================] - 0s 949us/step - loss: 0.2831 - accuracy: 0.8773\n",
      "Epoch 60/100\n",
      "24/24 [==============================] - 0s 897us/step - loss: 0.2820 - accuracy: 0.8787\n",
      "Epoch 61/100\n",
      "24/24 [==============================] - 0s 929us/step - loss: 0.2811 - accuracy: 0.8787\n",
      "Epoch 62/100\n",
      "24/24 [==============================] - 0s 912us/step - loss: 0.2802 - accuracy: 0.8800\n",
      "Epoch 63/100\n",
      "24/24 [==============================] - 0s 957us/step - loss: 0.2792 - accuracy: 0.8813\n",
      "Epoch 64/100\n",
      "24/24 [==============================] - 0s 904us/step - loss: 0.2784 - accuracy: 0.8813\n",
      "Epoch 65/100\n",
      "24/24 [==============================] - 0s 932us/step - loss: 0.2776 - accuracy: 0.8813\n",
      "Epoch 66/100\n",
      "24/24 [==============================] - 0s 929us/step - loss: 0.2767 - accuracy: 0.8827\n",
      "Epoch 67/100\n",
      "24/24 [==============================] - 0s 939us/step - loss: 0.2760 - accuracy: 0.8840\n",
      "Epoch 68/100\n",
      "24/24 [==============================] - 0s 902us/step - loss: 0.2752 - accuracy: 0.8840\n",
      "Epoch 69/100\n",
      "24/24 [==============================] - 0s 924us/step - loss: 0.2745 - accuracy: 0.8853\n",
      "Epoch 70/100\n",
      "24/24 [==============================] - 0s 882us/step - loss: 0.2738 - accuracy: 0.8867\n",
      "Epoch 71/100\n",
      "24/24 [==============================] - 0s 930us/step - loss: 0.2732 - accuracy: 0.8867\n",
      "Epoch 72/100\n",
      "24/24 [==============================] - 0s 895us/step - loss: 0.2725 - accuracy: 0.8867\n",
      "Epoch 73/100\n",
      "24/24 [==============================] - 0s 872us/step - loss: 0.2720 - accuracy: 0.8867\n",
      "Epoch 74/100\n",
      "24/24 [==============================] - 0s 920us/step - loss: 0.2713 - accuracy: 0.8853\n",
      "Epoch 75/100\n",
      "24/24 [==============================] - 0s 879us/step - loss: 0.2708 - accuracy: 0.8867\n",
      "Epoch 76/100\n",
      "24/24 [==============================] - 0s 925us/step - loss: 0.2702 - accuracy: 0.8867\n",
      "Epoch 77/100\n",
      "24/24 [==============================] - 0s 898us/step - loss: 0.2696 - accuracy: 0.8853\n",
      "Epoch 78/100\n",
      "24/24 [==============================] - 0s 947us/step - loss: 0.2691 - accuracy: 0.8853\n",
      "Epoch 79/100\n",
      "24/24 [==============================] - 0s 929us/step - loss: 0.2685 - accuracy: 0.8853\n",
      "Epoch 80/100\n",
      "24/24 [==============================] - 0s 920us/step - loss: 0.2681 - accuracy: 0.8853\n",
      "Epoch 81/100\n"
     ]
    },
    {
     "name": "stdout",
     "output_type": "stream",
     "text": [
      "24/24 [==============================] - 0s 846us/step - loss: 0.2677 - accuracy: 0.8867\n",
      "Epoch 82/100\n",
      "24/24 [==============================] - 0s 862us/step - loss: 0.2672 - accuracy: 0.8853\n",
      "Epoch 83/100\n",
      "24/24 [==============================] - 0s 889us/step - loss: 0.2667 - accuracy: 0.8867\n",
      "Epoch 84/100\n",
      "24/24 [==============================] - 0s 864us/step - loss: 0.2663 - accuracy: 0.8867\n",
      "Epoch 85/100\n",
      "24/24 [==============================] - 0s 891us/step - loss: 0.2659 - accuracy: 0.8880\n",
      "Epoch 86/100\n",
      "24/24 [==============================] - 0s 895us/step - loss: 0.2655 - accuracy: 0.8880\n",
      "Epoch 87/100\n",
      "24/24 [==============================] - 0s 892us/step - loss: 0.2652 - accuracy: 0.8880\n",
      "Epoch 88/100\n",
      "24/24 [==============================] - 0s 868us/step - loss: 0.2647 - accuracy: 0.8880\n",
      "Epoch 89/100\n",
      "24/24 [==============================] - 0s 883us/step - loss: 0.2644 - accuracy: 0.8880\n",
      "Epoch 90/100\n",
      "24/24 [==============================] - 0s 912us/step - loss: 0.2641 - accuracy: 0.8880\n",
      "Epoch 91/100\n",
      "24/24 [==============================] - 0s 916us/step - loss: 0.2639 - accuracy: 0.8893\n",
      "Epoch 92/100\n",
      "24/24 [==============================] - 0s 902us/step - loss: 0.2635 - accuracy: 0.8880\n",
      "Epoch 93/100\n",
      "24/24 [==============================] - 0s 921us/step - loss: 0.2632 - accuracy: 0.8893\n",
      "Epoch 94/100\n",
      "24/24 [==============================] - 0s 940us/step - loss: 0.2628 - accuracy: 0.8893\n",
      "Epoch 95/100\n",
      "24/24 [==============================] - 0s 934us/step - loss: 0.2625 - accuracy: 0.8893\n",
      "Epoch 96/100\n",
      "24/24 [==============================] - 0s 935us/step - loss: 0.2623 - accuracy: 0.8893\n",
      "Epoch 97/100\n",
      "24/24 [==============================] - 0s 860us/step - loss: 0.2619 - accuracy: 0.8893\n",
      "Epoch 98/100\n",
      "24/24 [==============================] - 0s 878us/step - loss: 0.2617 - accuracy: 0.8907\n",
      "Epoch 99/100\n",
      "24/24 [==============================] - 0s 885us/step - loss: 0.2614 - accuracy: 0.8893\n",
      "Epoch 100/100\n",
      "24/24 [==============================] - 0s 901us/step - loss: 0.2612 - accuracy: 0.8907\n"
     ]
    }
   ],
   "source": [
    "# Training the model with nonlinear data\n",
    "model_moon = nn_model.fit(X_moon_train_scaled, y_moon_train, epochs=100, shuffle=True)"
   ]
  },
  {
   "cell_type": "code",
   "execution_count": null,
   "metadata": {},
   "outputs": [],
   "source": []
  },
  {
   "cell_type": "code",
   "execution_count": 19,
   "metadata": {},
   "outputs": [
    {
     "data": {
      "text/plain": [
       "<AxesSubplot:>"
      ]
     },
     "execution_count": 19,
     "metadata": {},
     "output_type": "execute_result"
    },
    {
     "data": {
      "image/png": "[encoded data removed]",
      "text/plain": [
       "<Figure size 432x288 with 1 Axes>"
      ]
     },
     "metadata": {
      "needs_background": "light"
     },
     "output_type": "display_data"
    }
   ],
   "source": [
    "# Create a DataFrame containing training history\n",
    "history_df = pd.DataFrame(model_moon.history, index=range(1,len(model_moon.history[\"loss\"])+1))\n",
    "\n",
    "# Plot the loss\n",
    "history_df.plot(y=\"loss\")"
   ]
  },
  {
   "cell_type": "code",
   "execution_count": 20,
   "metadata": {},
   "outputs": [
    {
     "data": {
      "text/plain": [
       "<AxesSubplot:>"
      ]
     },
     "execution_count": 20,
     "metadata": {},
     "output_type": "execute_result"
    },
    {
     "data": {
      "image/png": "[encoded data removed]",
      "text/plain": [
       "<Figure size 432x288 with 1 Axes>"
      ]
     },
     "metadata": {
      "needs_background": "light"
     },
     "output_type": "display_data"
    }
   ],
   "source": [
    "# Plot the loss\n",
    "history_df.plot(y=\"accuracy\")"
   ]
  },
  {
   "cell_type": "code",
   "execution_count": null,
   "metadata": {},
   "outputs": [],
   "source": [
    "3 generate our"
   ]
  }
 ],
 "metadata": {
  "kernelspec": {
   "display_name": "PythonData",
   "language": "python",
   "name": "pythondata"
  },
  "language_info": {
   "codemirror_mode": {
    "name": "ipython",
    "version": 3
   },
   "file_extension": ".py",
   "mimetype": "text/x-python",
   "name": "python",
   "nbconvert_exporter": "python",
   "pygments_lexer": "ipython3",
   "version": "3.8.3"
  }
 },
 "nbformat": 4,
 "nbformat_minor": 4
}
